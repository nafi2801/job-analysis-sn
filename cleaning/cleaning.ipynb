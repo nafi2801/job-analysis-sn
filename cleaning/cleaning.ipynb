{
 "cells": [
  {
   "cell_type": "code",
   "execution_count": 18,
   "id": "8f0e2457",
   "metadata": {},
   "outputs": [],
   "source": [
    "import locale\n",
    "try:\n",
    "    locale.setlocale(locale.LC_TIME, 'fr_FR.UTF-8')\n",
    "except locale.Error:\n",
    "    print(\"French locale not installed, dates parsing might fail.\")\n",
    "import pandas as pd\n",
    "df=pd.read_csv('jobs.csv')\n"
   ]
  },
  {
   "cell_type": "code",
   "execution_count": 2,
   "id": "821dd1f6",
   "metadata": {},
   "outputs": [
    {
     "name": "stdout",
     "output_type": "stream",
     "text": [
      "                                               title  \\\n",
      "0                               Docteur en pharmacie   \n",
      "1                                 Commercial Terrain   \n",
      "2  Appel d’offres visant la sélection d’une compa...   \n",
      "3                                  Community manager   \n",
      "4  Agents en Prise de Rendez-vous (Déshumidificat...   \n",
      "\n",
      "                                             company  \\\n",
      "0                                 Pharmacie Gambetta   \n",
      "1                                           Tabasite   \n",
      "2                                  MAG International   \n",
      "3  KaliaKalia est une société de construction, pr...   \n",
      "4                                           AMK CALL   \n",
      "\n",
      "                                            location                job_type  \\\n",
      "0  114 Avenue Lamine Gueye, Dakar, Sénégal (à côt...                     CDD   \n",
      "1                                     Dakar, Sénégal                     CDD   \n",
      "2                                     Dakar, Sénégal  Prestation de Services   \n",
      "3                                     Point E, Dakar                   Stage   \n",
      "4                  Zac Mbao, Cité Serigne Babacar Sy  Prestation de Services   \n",
      "\n",
      "             date_posted  \n",
      "0  Publié le 19 mai 2025  \n",
      "1  Publié le 19 mai 2025  \n",
      "2  Publié le 19 mai 2025  \n",
      "3  Publié le 19 mai 2025  \n",
      "4  Publié le 19 mai 2025  \n",
      "                 title                                            company  \\\n",
      "count              259                                                259   \n",
      "unique             254                                                158   \n",
      "top     Chef Comptable  Sunda InternationalFaire de grandes réalisatio...   \n",
      "freq                 2                                                 17   \n",
      "\n",
      "              location job_type            date_posted  \n",
      "count              259      259                    259  \n",
      "unique              60        5                     22  \n",
      "top     Dakar, Sénégal      CDD  Publié le 19 mai 2025  \n",
      "freq               170      191                     30  \n",
      "(259, 5)\n",
      "<class 'pandas.core.frame.DataFrame'>\n",
      "RangeIndex: 259 entries, 0 to 258\n",
      "Data columns (total 5 columns):\n",
      " #   Column       Non-Null Count  Dtype \n",
      "---  ------       --------------  ----- \n",
      " 0   title        259 non-null    object\n",
      " 1   company      259 non-null    object\n",
      " 2   location     259 non-null    object\n",
      " 3   job_type     259 non-null    object\n",
      " 4   date_posted  259 non-null    object\n",
      "dtypes: object(5)\n",
      "memory usage: 10.2+ KB\n",
      "None\n"
     ]
    }
   ],
   "source": [
    "print(df.head())\n",
    "print(df.describe())   \n",
    "print(df.shape)\n",
    "print(df.info())"
   ]
  },
  {
   "cell_type": "code",
   "execution_count": 3,
   "id": "d8abbc83",
   "metadata": {},
   "outputs": [
    {
     "name": "stdout",
     "output_type": "stream",
     "text": [
      "title          0\n",
      "company        0\n",
      "location       0\n",
      "job_type       0\n",
      "date_posted    0\n",
      "dtype: int64\n",
      "1\n"
     ]
    }
   ],
   "source": [
    "print(df.isnull().sum())\n",
    "print(df.duplicated().sum())"
   ]
  },
  {
   "cell_type": "code",
   "execution_count": null,
   "id": "f1a72b79",
   "metadata": {},
   "outputs": [
    {
     "data": {
      "text/html": [
       "<div>\n",
       "<style scoped>\n",
       "    .dataframe tbody tr th:only-of-type {\n",
       "        vertical-align: middle;\n",
       "    }\n",
       "\n",
       "    .dataframe tbody tr th {\n",
       "        vertical-align: top;\n",
       "    }\n",
       "\n",
       "    .dataframe thead th {\n",
       "        text-align: right;\n",
       "    }\n",
       "</style>\n",
       "<table border=\"1\" class=\"dataframe\">\n",
       "  <thead>\n",
       "    <tr style=\"text-align: right;\">\n",
       "      <th></th>\n",
       "      <th>title</th>\n",
       "      <th>company</th>\n",
       "      <th>location</th>\n",
       "      <th>job_type</th>\n",
       "      <th>date_posted</th>\n",
       "    </tr>\n",
       "  </thead>\n",
       "  <tbody>\n",
       "    <tr>\n",
       "      <th>248</th>\n",
       "      <td>Agent d’Inventaire de Stock Bilingue</td>\n",
       "      <td>Sunda InternationalFaire de grandes réalisatio...</td>\n",
       "      <td>Sindia, Mbour, Sénégal</td>\n",
       "      <td>CDD</td>\n",
       "      <td>Publié le 25 avril 2025</td>\n",
       "    </tr>\n",
       "    <tr>\n",
       "      <th>252</th>\n",
       "      <td>Agent d’Inventaire de Stock Bilingue</td>\n",
       "      <td>Sunda InternationalFaire de grandes réalisatio...</td>\n",
       "      <td>Sindia, Mbour, Sénégal</td>\n",
       "      <td>CDD</td>\n",
       "      <td>Publié le 25 avril 2025</td>\n",
       "    </tr>\n",
       "  </tbody>\n",
       "</table>\n",
       "</div>"
      ],
      "text/plain": [
       "                                    title  \\\n",
       "248  Agent d’Inventaire de Stock Bilingue   \n",
       "252  Agent d’Inventaire de Stock Bilingue   \n",
       "\n",
       "                                               company  \\\n",
       "248  Sunda InternationalFaire de grandes réalisatio...   \n",
       "252  Sunda InternationalFaire de grandes réalisatio...   \n",
       "\n",
       "                   location job_type              date_posted  \n",
       "248  Sindia, Mbour, Sénégal      CDD  Publié le 25 avril 2025  \n",
       "252  Sindia, Mbour, Sénégal      CDD  Publié le 25 avril 2025  "
      ]
     },
     "execution_count": 4,
     "metadata": {},
     "output_type": "execute_result"
    }
   ],
   "source": [
    "df[df.duplicated(keep=False)]"
   ]
  },
  {
   "cell_type": "code",
   "execution_count": 5,
   "id": "2029146c",
   "metadata": {},
   "outputs": [],
   "source": [
    "df = df.drop_duplicates() "
   ]
  },
  {
   "cell_type": "code",
   "execution_count": 6,
   "id": "e753f412",
   "metadata": {},
   "outputs": [
    {
     "name": "stdout",
     "output_type": "stream",
     "text": [
      "0\n"
     ]
    }
   ],
   "source": [
    "print(df.duplicated().sum())"
   ]
  },
  {
   "cell_type": "code",
   "execution_count": 7,
   "id": "f0fc4a89",
   "metadata": {},
   "outputs": [
    {
     "data": {
      "text/plain": [
       "job_type\n",
       "CDD                       190\n",
       "Stage                      22\n",
       "Prestation de Services     19\n",
       "CDI                        18\n",
       "Freelance                   9\n",
       "Name: count, dtype: int64"
      ]
     },
     "execution_count": 7,
     "metadata": {},
     "output_type": "execute_result"
    }
   ],
   "source": [
    "df['job_type'].value_counts()"
   ]
  },
  {
   "cell_type": "code",
   "execution_count": 9,
   "id": "4afa037b",
   "metadata": {},
   "outputs": [],
   "source": [
    "# removing extra spaces\n",
    "df = df.map(lambda x: x.strip() if isinstance(x, str) else x)"
   ]
  },
  {
   "cell_type": "code",
   "execution_count": null,
   "id": "781ee254",
   "metadata": {},
   "outputs": [
    {
     "name": "stdout",
     "output_type": "stream",
     "text": [
      "                                               title  \\\n",
      "0                               Docteur en pharmacie   \n",
      "1                                 Commercial Terrain   \n",
      "2  Appel d’offres visant la sélection d’une compa...   \n",
      "3                                  Community manager   \n",
      "4  Agents en Prise de Rendez-vous (Déshumidificat...   \n",
      "\n",
      "                                             company  \\\n",
      "0                                 Pharmacie Gambetta   \n",
      "1                                           Tabasite   \n",
      "2                                  MAG International   \n",
      "3  KaliaKalia est une société de construction, pr...   \n",
      "4                                           AMK CALL   \n",
      "\n",
      "                                            location                job_type  \\\n",
      "0  114 Avenue Lamine Gueye, Dakar, Sénégal (à côt...                     CDD   \n",
      "1                                     Dakar, Sénégal                     CDD   \n",
      "2                                     Dakar, Sénégal  Prestation de Services   \n",
      "3                                     Point E, Dakar                   Stage   \n",
      "4                  Zac Mbao, Cité Serigne Babacar Sy  Prestation de Services   \n",
      "\n",
      "   date_posted  \n",
      "0  19 mai 2025  \n",
      "1  19 mai 2025  \n",
      "2  19 mai 2025  \n",
      "3  19 mai 2025  \n",
      "4  19 mai 2025  \n"
     ]
    }
   ],
   "source": [
    "# extracting the date posted\n",
    "df['date_posted'] = df['date_posted'].str.extract(r'(\\d{1,2} \\w+ \\d{4})')\n",
    "print(df.head())"
   ]
  },
  {
   "cell_type": "code",
   "execution_count": 19,
   "id": "08369049",
   "metadata": {},
   "outputs": [
    {
     "name": "stdout",
     "output_type": "stream",
     "text": [
      "0   NaT\n",
      "1   NaT\n",
      "2   NaT\n",
      "3   NaT\n",
      "4   NaT\n",
      "Name: date_posted, dtype: datetime64[ns]\n",
      "Date range: NaT to NaT\n"
     ]
    }
   ],
   "source": [
    "df['date_posted'] = pd.to_datetime(df['date_posted'], format='%d %B %Y', errors='coerce')\n",
    "\n",
    "print(df['date_posted'].head())\n",
    "print(\"Date range:\", df['date_posted'].min(), \"to\", df['date_posted'].max())"
   ]
  },
  {
   "cell_type": "code",
   "execution_count": 16,
   "id": "9a0c4509",
   "metadata": {},
   "outputs": [],
   "source": [
    "df.to_csv(\"cleaned_jobs.csv\", index=False)"
   ]
  }
 ],
 "metadata": {
  "kernelspec": {
   "display_name": "Python 3",
   "language": "python",
   "name": "python3"
  },
  "language_info": {
   "codemirror_mode": {
    "name": "ipython",
    "version": 3
   },
   "file_extension": ".py",
   "mimetype": "text/x-python",
   "name": "python",
   "nbconvert_exporter": "python",
   "pygments_lexer": "ipython3",
   "version": "3.12.8"
  }
 },
 "nbformat": 4,
 "nbformat_minor": 5
}
